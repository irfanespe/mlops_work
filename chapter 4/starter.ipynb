{
 "cells": [
  {
   "cell_type": "code",
   "execution_count": 2,
   "id": "2c51efaa",
   "metadata": {},
   "outputs": [
    {
     "name": "stdout",
     "output_type": "stream",
     "text": [
      "scikit-learn==1.1.1\n"
     ]
    }
   ],
   "source": [
    "!pip freeze | findstr scikit-learn"
   ]
  },
  {
   "cell_type": "code",
   "execution_count": 3,
   "id": "0ef880a0",
   "metadata": {},
   "outputs": [],
   "source": [
    "import pickle\n",
    "import pandas as pd"
   ]
  },
  {
   "cell_type": "code",
   "execution_count": 4,
   "id": "7836ccfd",
   "metadata": {},
   "outputs": [
    {
     "name": "stderr",
     "output_type": "stream",
     "text": [
      "C:\\Users\\User\\anaconda3\\envs\\mlflow_test\\lib\\site-packages\\sklearn\\base.py:329: UserWarning: Trying to unpickle estimator DictVectorizer from version 1.0.2 when using version 1.1.1. This might lead to breaking code or invalid results. Use at your own risk. For more info please refer to:\n",
      "https://scikit-learn.org/stable/model_persistence.html#security-maintainability-limitations\n",
      "  warnings.warn(\n",
      "C:\\Users\\User\\anaconda3\\envs\\mlflow_test\\lib\\site-packages\\sklearn\\base.py:329: UserWarning: Trying to unpickle estimator LinearRegression from version 1.0.2 when using version 1.1.1. This might lead to breaking code or invalid results. Use at your own risk. For more info please refer to:\n",
      "https://scikit-learn.org/stable/model_persistence.html#security-maintainability-limitations\n",
      "  warnings.warn(\n"
     ]
    }
   ],
   "source": [
    "with open('model.bin', 'rb') as f_in:\n",
    "    dv, lr = pickle.load(f_in)"
   ]
  },
  {
   "cell_type": "code",
   "execution_count": 5,
   "id": "41c08294",
   "metadata": {},
   "outputs": [],
   "source": [
    "categorical = ['PUlocationID', 'DOlocationID']\n",
    "\n",
    "def read_data(filename):\n",
    "    df = pd.read_parquet(filename)\n",
    "    \n",
    "    df['duration'] = df.dropOff_datetime - df.pickup_datetime\n",
    "    df['duration'] = df.duration.dt.total_seconds() / 60\n",
    "\n",
    "    df = df[(df.duration >= 1) & (df.duration <= 60)].copy()\n",
    "\n",
    "    df[categorical] = df[categorical].fillna(-1).astype('int').astype('str')\n",
    "    \n",
    "    return df"
   ]
  },
  {
   "cell_type": "code",
   "execution_count": 7,
   "id": "4854399a",
   "metadata": {},
   "outputs": [],
   "source": [
    "df = read_data('https://nyc-tlc.s3.amazonaws.com/trip+data/fhv_tripdata_2021-02.parquet')"
   ]
  },
  {
   "cell_type": "code",
   "execution_count": 8,
   "id": "669fda0a",
   "metadata": {},
   "outputs": [],
   "source": [
    "dicts = df[categorical].to_dict(orient='records')\n",
    "X_val = dv.transform(dicts)\n",
    "y_pred = lr.predict(X_val)"
   ]
  },
  {
   "cell_type": "markdown",
   "id": "8572e063",
   "metadata": {},
   "source": [
    "## No 1"
   ]
  },
  {
   "cell_type": "code",
   "execution_count": 12,
   "id": "d2b096eb",
   "metadata": {},
   "outputs": [
    {
     "data": {
      "text/plain": [
       "16.191691679979066"
      ]
     },
     "execution_count": 12,
     "metadata": {},
     "output_type": "execute_result"
    }
   ],
   "source": [
    "y_pred.mean()"
   ]
  },
  {
   "cell_type": "markdown",
   "id": "b8873fde",
   "metadata": {},
   "source": [
    "### NO 2"
   ]
  },
  {
   "cell_type": "code",
   "execution_count": 45,
   "id": "0bdc92fc",
   "metadata": {},
   "outputs": [
    {
     "data": {
      "text/html": [
       "<div>\n",
       "<style scoped>\n",
       "    .dataframe tbody tr th:only-of-type {\n",
       "        vertical-align: middle;\n",
       "    }\n",
       "\n",
       "    .dataframe tbody tr th {\n",
       "        vertical-align: top;\n",
       "    }\n",
       "\n",
       "    .dataframe thead th {\n",
       "        text-align: right;\n",
       "    }\n",
       "</style>\n",
       "<table border=\"1\" class=\"dataframe\">\n",
       "  <thead>\n",
       "    <tr style=\"text-align: right;\">\n",
       "      <th></th>\n",
       "      <th>dispatching_base_num</th>\n",
       "      <th>pickup_datetime</th>\n",
       "      <th>dropOff_datetime</th>\n",
       "      <th>PUlocationID</th>\n",
       "      <th>DOlocationID</th>\n",
       "      <th>SR_Flag</th>\n",
       "      <th>Affiliated_base_number</th>\n",
       "      <th>duration</th>\n",
       "      <th>ride_id</th>\n",
       "    </tr>\n",
       "  </thead>\n",
       "  <tbody>\n",
       "    <tr>\n",
       "      <th>1</th>\n",
       "      <td>B00021</td>\n",
       "      <td>2021-02-01 00:55:40</td>\n",
       "      <td>2021-02-01 01:06:20</td>\n",
       "      <td>173</td>\n",
       "      <td>82</td>\n",
       "      <td>None</td>\n",
       "      <td>B00021</td>\n",
       "      <td>10.666667</td>\n",
       "      <td>2021/02_1</td>\n",
       "    </tr>\n",
       "    <tr>\n",
       "      <th>2</th>\n",
       "      <td>B00021</td>\n",
       "      <td>2021-02-01 00:14:03</td>\n",
       "      <td>2021-02-01 00:28:37</td>\n",
       "      <td>173</td>\n",
       "      <td>56</td>\n",
       "      <td>None</td>\n",
       "      <td>B00021</td>\n",
       "      <td>14.566667</td>\n",
       "      <td>2021/02_2</td>\n",
       "    </tr>\n",
       "    <tr>\n",
       "      <th>3</th>\n",
       "      <td>B00021</td>\n",
       "      <td>2021-02-01 00:27:48</td>\n",
       "      <td>2021-02-01 00:35:45</td>\n",
       "      <td>82</td>\n",
       "      <td>129</td>\n",
       "      <td>None</td>\n",
       "      <td>B00021</td>\n",
       "      <td>7.950000</td>\n",
       "      <td>2021/02_3</td>\n",
       "    </tr>\n",
       "    <tr>\n",
       "      <th>4</th>\n",
       "      <td>B00037</td>\n",
       "      <td>2021-02-01 00:12:50</td>\n",
       "      <td>2021-02-01 00:26:38</td>\n",
       "      <td>-1</td>\n",
       "      <td>225</td>\n",
       "      <td>None</td>\n",
       "      <td>B00037</td>\n",
       "      <td>13.800000</td>\n",
       "      <td>2021/02_4</td>\n",
       "    </tr>\n",
       "    <tr>\n",
       "      <th>5</th>\n",
       "      <td>B00037</td>\n",
       "      <td>2021-02-01 00:00:37</td>\n",
       "      <td>2021-02-01 00:09:35</td>\n",
       "      <td>-1</td>\n",
       "      <td>61</td>\n",
       "      <td>None</td>\n",
       "      <td>B00037</td>\n",
       "      <td>8.966667</td>\n",
       "      <td>2021/02_5</td>\n",
       "    </tr>\n",
       "    <tr>\n",
       "      <th>...</th>\n",
       "      <td>...</td>\n",
       "      <td>...</td>\n",
       "      <td>...</td>\n",
       "      <td>...</td>\n",
       "      <td>...</td>\n",
       "      <td>...</td>\n",
       "      <td>...</td>\n",
       "      <td>...</td>\n",
       "      <td>...</td>\n",
       "    </tr>\n",
       "    <tr>\n",
       "      <th>1037687</th>\n",
       "      <td>B03282</td>\n",
       "      <td>2021-02-28 23:01:16</td>\n",
       "      <td>2021-02-28 23:14:48</td>\n",
       "      <td>-1</td>\n",
       "      <td>31</td>\n",
       "      <td>None</td>\n",
       "      <td>B01717</td>\n",
       "      <td>13.533333</td>\n",
       "      <td>2021/02_1037687</td>\n",
       "    </tr>\n",
       "    <tr>\n",
       "      <th>1037688</th>\n",
       "      <td>B03282</td>\n",
       "      <td>2021-02-28 23:36:10</td>\n",
       "      <td>2021-02-28 23:47:38</td>\n",
       "      <td>-1</td>\n",
       "      <td>169</td>\n",
       "      <td>None</td>\n",
       "      <td>B01717</td>\n",
       "      <td>11.466667</td>\n",
       "      <td>2021/02_1037688</td>\n",
       "    </tr>\n",
       "    <tr>\n",
       "      <th>1037689</th>\n",
       "      <td>B03285</td>\n",
       "      <td>2021-02-28 23:18:36</td>\n",
       "      <td>2021-02-28 23:43:59</td>\n",
       "      <td>28</td>\n",
       "      <td>171</td>\n",
       "      <td>None</td>\n",
       "      <td>B03285</td>\n",
       "      <td>25.383333</td>\n",
       "      <td>2021/02_1037689</td>\n",
       "    </tr>\n",
       "    <tr>\n",
       "      <th>1037690</th>\n",
       "      <td>B03285</td>\n",
       "      <td>2021-02-28 23:26:34</td>\n",
       "      <td>2021-02-28 23:44:37</td>\n",
       "      <td>16</td>\n",
       "      <td>252</td>\n",
       "      <td>None</td>\n",
       "      <td>B03285</td>\n",
       "      <td>18.050000</td>\n",
       "      <td>2021/02_1037690</td>\n",
       "    </tr>\n",
       "    <tr>\n",
       "      <th>1037691</th>\n",
       "      <td>B03285</td>\n",
       "      <td>2021-02-28 23:24:00</td>\n",
       "      <td>2021-02-28 23:40:00</td>\n",
       "      <td>171</td>\n",
       "      <td>135</td>\n",
       "      <td>None</td>\n",
       "      <td>B03285</td>\n",
       "      <td>16.000000</td>\n",
       "      <td>2021/02_1037691</td>\n",
       "    </tr>\n",
       "  </tbody>\n",
       "</table>\n",
       "<p>990113 rows × 9 columns</p>\n",
       "</div>"
      ],
      "text/plain": [
       "        dispatching_base_num     pickup_datetime    dropOff_datetime  \\\n",
       "1            B00021          2021-02-01 00:55:40 2021-02-01 01:06:20   \n",
       "2            B00021          2021-02-01 00:14:03 2021-02-01 00:28:37   \n",
       "3            B00021          2021-02-01 00:27:48 2021-02-01 00:35:45   \n",
       "4                     B00037 2021-02-01 00:12:50 2021-02-01 00:26:38   \n",
       "5                     B00037 2021-02-01 00:00:37 2021-02-01 00:09:35   \n",
       "...                      ...                 ...                 ...   \n",
       "1037687               B03282 2021-02-28 23:01:16 2021-02-28 23:14:48   \n",
       "1037688               B03282 2021-02-28 23:36:10 2021-02-28 23:47:38   \n",
       "1037689      B03285          2021-02-28 23:18:36 2021-02-28 23:43:59   \n",
       "1037690      B03285          2021-02-28 23:26:34 2021-02-28 23:44:37   \n",
       "1037691      B03285          2021-02-28 23:24:00 2021-02-28 23:40:00   \n",
       "\n",
       "        PUlocationID DOlocationID SR_Flag Affiliated_base_number   duration  \\\n",
       "1                173           82    None        B00021           10.666667   \n",
       "2                173           56    None        B00021           14.566667   \n",
       "3                 82          129    None        B00021            7.950000   \n",
       "4                 -1          225    None                 B00037  13.800000   \n",
       "5                 -1           61    None                 B00037   8.966667   \n",
       "...              ...          ...     ...                    ...        ...   \n",
       "1037687           -1           31    None                 B01717  13.533333   \n",
       "1037688           -1          169    None                 B01717  11.466667   \n",
       "1037689           28          171    None        B03285           25.383333   \n",
       "1037690           16          252    None        B03285           18.050000   \n",
       "1037691          171          135    None        B03285           16.000000   \n",
       "\n",
       "                 ride_id  \n",
       "1              2021/02_1  \n",
       "2              2021/02_2  \n",
       "3              2021/02_3  \n",
       "4              2021/02_4  \n",
       "5              2021/02_5  \n",
       "...                  ...  \n",
       "1037687  2021/02_1037687  \n",
       "1037688  2021/02_1037688  \n",
       "1037689  2021/02_1037689  \n",
       "1037690  2021/02_1037690  \n",
       "1037691  2021/02_1037691  \n",
       "\n",
       "[990113 rows x 9 columns]"
      ]
     },
     "execution_count": 45,
     "metadata": {},
     "output_type": "execute_result"
    }
   ],
   "source": [
    "df"
   ]
  },
  {
   "cell_type": "code",
   "execution_count": 24,
   "id": "ec42ddb8",
   "metadata": {},
   "outputs": [],
   "source": [
    "year = '2021'\n",
    "month = '02'\n",
    "df['ride_id'] = f'{year}/{month}_' + df.index.astype('str')"
   ]
  },
  {
   "cell_type": "code",
   "execution_count": 28,
   "id": "5c4ba940",
   "metadata": {},
   "outputs": [],
   "source": [
    "df_result = df[['ride_id']].copy()\n",
    "df_result['predictions'] = y_pred"
   ]
  },
  {
   "cell_type": "code",
   "execution_count": 29,
   "id": "f679ff09",
   "metadata": {},
   "outputs": [
    {
     "data": {
      "text/html": [
       "<div>\n",
       "<style scoped>\n",
       "    .dataframe tbody tr th:only-of-type {\n",
       "        vertical-align: middle;\n",
       "    }\n",
       "\n",
       "    .dataframe tbody tr th {\n",
       "        vertical-align: top;\n",
       "    }\n",
       "\n",
       "    .dataframe thead th {\n",
       "        text-align: right;\n",
       "    }\n",
       "</style>\n",
       "<table border=\"1\" class=\"dataframe\">\n",
       "  <thead>\n",
       "    <tr style=\"text-align: right;\">\n",
       "      <th></th>\n",
       "      <th>ride_id</th>\n",
       "      <th>predictions</th>\n",
       "    </tr>\n",
       "  </thead>\n",
       "  <tbody>\n",
       "    <tr>\n",
       "      <th>1</th>\n",
       "      <td>2021/02_1</td>\n",
       "      <td>14.539865</td>\n",
       "    </tr>\n",
       "    <tr>\n",
       "      <th>2</th>\n",
       "      <td>2021/02_2</td>\n",
       "      <td>13.740422</td>\n",
       "    </tr>\n",
       "    <tr>\n",
       "      <th>3</th>\n",
       "      <td>2021/02_3</td>\n",
       "      <td>15.593339</td>\n",
       "    </tr>\n",
       "    <tr>\n",
       "      <th>4</th>\n",
       "      <td>2021/02_4</td>\n",
       "      <td>15.188118</td>\n",
       "    </tr>\n",
       "    <tr>\n",
       "      <th>5</th>\n",
       "      <td>2021/02_5</td>\n",
       "      <td>13.817206</td>\n",
       "    </tr>\n",
       "    <tr>\n",
       "      <th>...</th>\n",
       "      <td>...</td>\n",
       "      <td>...</td>\n",
       "    </tr>\n",
       "    <tr>\n",
       "      <th>1037687</th>\n",
       "      <td>2021/02_1037687</td>\n",
       "      <td>12.433246</td>\n",
       "    </tr>\n",
       "    <tr>\n",
       "      <th>1037688</th>\n",
       "      <td>2021/02_1037688</td>\n",
       "      <td>12.910885</td>\n",
       "    </tr>\n",
       "    <tr>\n",
       "      <th>1037689</th>\n",
       "      <td>2021/02_1037689</td>\n",
       "      <td>15.834923</td>\n",
       "    </tr>\n",
       "    <tr>\n",
       "      <th>1037690</th>\n",
       "      <td>2021/02_1037690</td>\n",
       "      <td>16.783176</td>\n",
       "    </tr>\n",
       "    <tr>\n",
       "      <th>1037691</th>\n",
       "      <td>2021/02_1037691</td>\n",
       "      <td>19.654626</td>\n",
       "    </tr>\n",
       "  </tbody>\n",
       "</table>\n",
       "<p>990113 rows × 2 columns</p>\n",
       "</div>"
      ],
      "text/plain": [
       "                 ride_id  predictions\n",
       "1              2021/02_1    14.539865\n",
       "2              2021/02_2    13.740422\n",
       "3              2021/02_3    15.593339\n",
       "4              2021/02_4    15.188118\n",
       "5              2021/02_5    13.817206\n",
       "...                  ...          ...\n",
       "1037687  2021/02_1037687    12.433246\n",
       "1037688  2021/02_1037688    12.910885\n",
       "1037689  2021/02_1037689    15.834923\n",
       "1037690  2021/02_1037690    16.783176\n",
       "1037691  2021/02_1037691    19.654626\n",
       "\n",
       "[990113 rows x 2 columns]"
      ]
     },
     "execution_count": 29,
     "metadata": {},
     "output_type": "execute_result"
    }
   ],
   "source": [
    "df_result"
   ]
  },
  {
   "cell_type": "code",
   "execution_count": 31,
   "id": "e1300331",
   "metadata": {},
   "outputs": [],
   "source": [
    "output_file = 'predictions.parquet'\n",
    "\n",
    "df_result.to_parquet(\n",
    "    output_file,\n",
    "    engine='pyarrow',\n",
    "    compression=None,\n",
    "    index=False\n",
    ")"
   ]
  },
  {
   "cell_type": "code",
   "execution_count": 44,
   "id": "62331cf4",
   "metadata": {},
   "outputs": [
    {
     "data": {
      "text/plain": [
       "'size parquet output : 19.71144 MB'"
      ]
     },
     "execution_count": 44,
     "metadata": {},
     "output_type": "execute_result"
    }
   ],
   "source": [
    "import os\n",
    "(\"size parquet output : {} MB\".format(os.path.getsize(\"./predictions.parquet\")/10**6))"
   ]
  },
  {
   "cell_type": "markdown",
   "id": "12e3a0e7",
   "metadata": {},
   "source": [
    "## No 3"
   ]
  },
  {
   "cell_type": "markdown",
   "id": "c247928a",
   "metadata": {},
   "source": [
    "python predictions.py"
   ]
  },
  {
   "cell_type": "markdown",
   "id": "e72f264b",
   "metadata": {},
   "source": [
    "## No.4"
   ]
  },
  {
   "cell_type": "markdown",
   "id": "2641adca",
   "metadata": {},
   "source": [
    "First hash of scikit-learn : sha256:08ef968f6b72033c16c479c966bf37ccd49b06ea91b765e1cc27afefe723920b"
   ]
  },
  {
   "cell_type": "markdown",
   "id": "12b00f02",
   "metadata": {},
   "source": [
    "## No. 5"
   ]
  },
  {
   "attachments": {
    "mlops_3_2021.JPG": {
     "image/jpeg": "[encoded data removed]"
    }
   },
   "cell_type": "markdown",
   "id": "99cd5585",
   "metadata": {},
   "source": [
    "![mlops_3_2021.JPG](attachment:mlops_3_2021.JPG)"
   ]
  },
  {
   "cell_type": "code",
   "execution_count": null,
   "id": "dcfdae2f",
   "metadata": {},
   "outputs": [],
   "source": []
  }
 ],
 "metadata": {
  "kernelspec": {
   "display_name": "Python 3 (ipykernel)",
   "language": "python",
   "name": "python3"
  },
  "language_info": {
   "codemirror_mode": {
    "name": "ipython",
    "version": 3
   },
   "file_extension": ".py",
   "mimetype": "text/x-python",
   "name": "python",
   "nbconvert_exporter": "python",
   "pygments_lexer": "ipython3",
   "version": "3.10.4"
  }
 },
 "nbformat": 4,
 "nbformat_minor": 5
}
